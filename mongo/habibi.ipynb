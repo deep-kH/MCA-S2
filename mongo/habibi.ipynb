{
 "cells": [
  {
   "cell_type": "code",
   "execution_count": 22,
   "metadata": {},
   "outputs": [],
   "source": [
    "import pymongo\n",
    "con = pymongo.MongoClient(\"mongodb://localhost:27017/\")\n",
    "db = con[\"WinAss\"]\n",
    "col = db[\"Assonly\"]"
   ]
  },
  {
   "cell_type": "code",
   "execution_count": null,
   "metadata": {},
   "outputs": [],
   "source": [
    "val = [{\"Name\":\"Ass\", \"Age\":32}, {\"Name\":\"isho\",\"Age\":54}, {\"Name\":\"Haroon\",\"Age\":54}]\n",
    "col.insert_many(val)"
   ]
  },
  {
   "cell_type": "code",
   "execution_count": 6,
   "metadata": {},
   "outputs": [
    {
     "name": "stdout",
     "output_type": "stream",
     "text": [
      "{'Name': 'Ass'}\n",
      "{'Name': 'isho'}\n",
      "{'Name': 'Haroon'}\n"
     ]
    }
   ],
   "source": [
    "var = col.find({\"Age\": {\"$gte\":32, \"$lt\":55}}, {\"Name\": 1, \"_id\": 0})\n",
    "for i in var:\n",
    "    print(i)"
   ]
  },
  {
   "cell_type": "code",
   "execution_count": 23,
   "metadata": {},
   "outputs": [
    {
     "name": "stdout",
     "output_type": "stream",
     "text": [
      "{'Name': 'Ass'}\n"
     ]
    }
   ],
   "source": [
    "var = col.find({\"$or\":[{\"Age\": 32}, {\"Age\":20}]}, {\"Name\": 1, \"_id\": 0})\n",
    "for i in var:\n",
    "    print(i)"
   ]
  },
  {
   "cell_type": "code",
   "execution_count": 31,
   "metadata": {},
   "outputs": [
    {
     "data": {
      "text/plain": [
       "UpdateResult({'n': 1, 'nModified': 1, 'ok': 1.0, 'updatedExisting': True}, acknowledged=True)"
      ]
     },
     "execution_count": 31,
     "metadata": {},
     "output_type": "execute_result"
    }
   ],
   "source": [
    "cond = {\"Name\":\"Aswin\"}\n",
    "newvalue = {\"$set\":{\"Extra\":\"heh\"}}\n",
    "col.update_many(cond, newvalue)"
   ]
  }
 ],
 "metadata": {
  "kernelspec": {
   "display_name": "Python 3",
   "language": "python",
   "name": "python3"
  },
  "language_info": {
   "codemirror_mode": {
    "name": "ipython",
    "version": 3
   },
   "file_extension": ".py",
   "mimetype": "text/x-python",
   "name": "python",
   "nbconvert_exporter": "python",
   "pygments_lexer": "ipython3",
   "version": "3.13.2"
  }
 },
 "nbformat": 4,
 "nbformat_minor": 2
}
